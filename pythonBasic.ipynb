{
 "cells": [
  {
   "cell_type": "markdown",
   "metadata": {},
   "source": [
    "Reto MIS2\n",
    "Reto Número 1.\n",
    "Realiza una función donde generes el siguiente número de la sucesión Fibonacci a partir del 0 y el 1, se van sumando a pares, de manera que cada número es igual a la suma de sus dos anteriores, de manera que:\n",
    "\n",
    "0, 1, 1, 2, 3, 5, 8, 13, 21, 34, 55…\n",
    "\n",
    "Integra en la función fibonacci un ciclo for, donde genere los primeros números de la secuencia fibo. Recuerda poner un print\n",
    "\n",
    "Tip: Sera necesario usar un if y else para cumplir tal propósito."
   ]
  },
  {
   "cell_type": "code",
   "execution_count": 39,
   "metadata": {},
   "outputs": [
    {
     "name": "stdout",
     "output_type": "stream",
     "text": [
      "[0]\n",
      "[0, 1]\n",
      "[0, 1, 1]\n",
      "[0, 1, 1, 2]\n",
      "[0, 1, 1, 2, 3]\n",
      "[0, 1, 1, 2, 3, 5]\n",
      "[0, 1, 1, 2, 3, 5, 8]\n",
      "[0, 1, 1, 2, 3, 5, 8, 13]\n",
      "[0, 1, 1, 2, 3, 5, 8, 13, 21]\n",
      "[0, 1, 1, 2, 3, 5, 8, 13, 21, 34]\n"
     ]
    },
    {
     "data": {
      "text/plain": [
       "[0, 1, 1, 2, 3, 5, 8, 13, 21, 34]"
      ]
     },
     "execution_count": 39,
     "metadata": {},
     "output_type": "execute_result"
    }
   ],
   "source": [
    "def fibonacci(a):\n",
    "    respuesta=0\n",
    "    lista=[]\n",
    "    valor=0\n",
    "    for i in range(a+1):\n",
    "        if i==0 or i==1:\n",
    "            valor+=i\n",
    "            lista.append(valor)\n",
    "        \n",
    "        else:\n",
    "            valor=lista[i-1]+lista[i-2]\n",
    "            lista.append(valor)\n",
    "           \n",
    "        print(lista)\n",
    "    respuesta=lista  \n",
    "    return respuesta\n",
    "fibonacci(9)"
   ]
  },
  {
   "cell_type": "markdown",
   "metadata": {},
   "source": [
    "Reto Número 2\n",
    "Integra en la función fibonacci un while en vez del for y que termine hasta que la respuesta final de la secuencia fibonacci sea mayor de 150."
   ]
  },
  {
   "cell_type": "code",
   "execution_count": 49,
   "metadata": {},
   "outputs": [
    {
     "name": "stdout",
     "output_type": "stream",
     "text": [
      "[0, 1, 1]\n",
      "[0, 1, 1, 2]\n",
      "[0, 1, 1, 2, 3]\n",
      "[0, 1, 1, 2, 3, 5]\n",
      "[0, 1, 1, 2, 3, 5, 8]\n",
      "[0, 1, 1, 2, 3, 5, 8, 13]\n",
      "[0, 1, 1, 2, 3, 5, 8, 13, 21]\n",
      "[0, 1, 1, 2, 3, 5, 8, 13, 21, 34]\n"
     ]
    },
    {
     "data": {
      "text/plain": [
       "[0, 1, 1, 2, 3, 5, 8, 13, 21, 34]"
      ]
     },
     "execution_count": 49,
     "metadata": {},
     "output_type": "execute_result"
    }
   ],
   "source": [
    "def fibonacci(a):\n",
    "    respuesta=0\n",
    "    lista=[]\n",
    "    valor=0\n",
    "    i=0\n",
    "    while i<=a:\n",
    "        if i==0 or i==1:\n",
    "            valor+=i\n",
    "            lista.append(valor)\n",
    "        \n",
    "        else:\n",
    "            valor=lista[i-1]+lista[i-2]\n",
    "            lista.append(valor)\n",
    "            print(lista)\n",
    "      \n",
    "        i=i+1\n",
    "    respuesta=lista  \n",
    "    return respuesta\n",
    "fibonacci(9)\n",
    "\n",
    "    "
   ]
  },
  {
   "cell_type": "markdown",
   "metadata": {},
   "source": [
    "Generar un rango de 10 a 0."
   ]
  },
  {
   "cell_type": "code",
   "execution_count": 52,
   "metadata": {},
   "outputs": [
    {
     "name": "stdout",
     "output_type": "stream",
     "text": [
      "[0, 1, 2, 3, 4, 5, 6, 7, 8, 9, 10]\n"
     ]
    }
   ],
   "source": [
    "rango=list(range(10+1))\n",
    "print(rango)"
   ]
  },
  {
   "cell_type": "markdown",
   "metadata": {},
   "source": [
    "· 31 Dise˜na un programa que, a partir del valor del lado de un cuadrado (3 metros), muestre el valor de su per´ımetro (en\n",
    "metros) y el de su ´area (en metros cuadrados).\n",
    "(El per´ımetro debe darte 12 metros y el ´area 9 metros cuadrados.)\n"
   ]
  },
  {
   "cell_type": "markdown",
   "metadata": {},
   "source": [
    "def area(a):\n",
    "    base=int(input(\"ingresa el valor de la base: \"))\n",
    "    altura=int(input(\"ingresa el valor de la altura: \"))\n",
    "    area=base*altura\n",
    "    return area\n",
    "\n",
    "\n",
    "def perimetro(a):\n",
    "    base=int(input(\"ingresa el valor de la base: \"))\n",
    "    altura=int(input(\"ingresa el valor de la altura: \"))\n",
    "    perimetro=base*2+altura*2\n",
    "    return perimetro\n",
    "print(f\"el area es:{area(3)}\\nel perimetro: {perimetro(3)}\")\n",
    "\n",
    "\n"
   ]
  },
  {
   "cell_type": "markdown",
   "metadata": {},
   "source": [
    "· 32 Dise˜na un programa que, a partir del valor de la base y de la altura de un tri´angulo (3 y 5 metros, respectivamente),\n",
    "muestre el valor de su ´area (en metros cuadrados).\n",
    "Recuerda que el ´area A de un tri´angulo se puede calcular a partir de la base b y la altura h como A =1/2 bh\n",
    "\n"
   ]
  },
  {
   "cell_type": "code",
   "execution_count": 59,
   "metadata": {},
   "outputs": [
    {
     "name": "stdout",
     "output_type": "stream",
     "text": [
      "el area del triangulo es: 4.0\n"
     ]
    }
   ],
   "source": [
    "def trianguloArea(a,b):\n",
    "    area=(a*b)/2\n",
    "    return area\n",
    "print(f\"el area del triangulo es: {trianguloArea(4,2)}\")\n",
    "    "
   ]
  },
  {
   "cell_type": "code",
   "execution_count": null,
   "metadata": {},
   "outputs": [],
   "source": [
    "import math\n",
    "potencia=math.sqrt(pow(6,2))\n",
    "print(potencia)"
   ]
  },
  {
   "cell_type": "markdown",
   "metadata": {},
   "source": [
    "· 38 El ´area A de un tri´angulo se puede calcular a partir del valor de dos de sus lados, a y b, y del ´angulo θ que ´estos\n",
    "forman entre s´ı con la f´ormula A =\n",
    "1\n",
    "2\n",
    "ab sin(θ). Dise˜na un programa que pida al usuario el valor de los dos lados (en metros),\n",
    "el ´angulo que estos forman (en grados), y muestre el valor del ´area.\n",
    "\n",
    "(Ten en cuenta que la funci´on sin de Python trabaja en radianes, as´ı que el ´angulo que leas en grados deber´as pasarlo a\n",
    "radianes sabiendo que π radianes son 180 grados. Prueba que has hecho bien el programa introduciendo los siguientes datos:\n",
    "a = 1, b = 2, θ = 30; el resultado es 0.5.)\n"
   ]
  },
  {
   "cell_type": "code",
   "execution_count": null,
   "metadata": {},
   "outputs": [],
   "source": [
    "import math\n",
    "def area(base,altura,angulo):\n",
    "    \n",
    "    a=base,b=altura,c=angulo\n",
    "    area=((a*b)*math.sin(math.radians(c)))/2\n",
    "    \n",
    "base=float(input(\"ingresar la base: \"))\n",
    "altura=float(input(\"ingresar altura: \"))\n",
    "angulo=float(input(\"ingresar el angulo(grad): \"))   \n",
    "print(f\"el area es: {area(base,altura,angulo)}\")"
   ]
  },
  {
   "cell_type": "code",
   "execution_count": null,
   "metadata": {},
   "outputs": [],
   "source": []
  }
 ],
 "metadata": {
  "kernelspec": {
   "display_name": "Python 3",
   "language": "python",
   "name": "python3"
  },
  "language_info": {
   "codemirror_mode": {
    "name": "ipython",
    "version": 3
   },
   "file_extension": ".py",
   "mimetype": "text/x-python",
   "name": "python",
   "nbconvert_exporter": "python",
   "pygments_lexer": "ipython3",
   "version": "3.7.1"
  }
 },
 "nbformat": 4,
 "nbformat_minor": 2
}
