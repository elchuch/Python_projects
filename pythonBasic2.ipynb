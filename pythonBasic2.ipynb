{
 "cells": [
  {
   "cell_type": "markdown",
   "metadata": {},
   "source": [
    "· 38 El ´area A de un tri´angulo se puede calcular a partir del valor de dos de sus lados, a y b, y del ´angulo θ que ´estos forman entre s´ı con la f´ormula A = 1 2 ab sin(θ). Dise˜na un programa que pida al usuario el valor de los dos lados (en metros), el ´angulo que estos forman (en grados), y muestre el valor del ´area.\n",
    "\n",
    "(Ten en cuenta que la funci´on sin de Python trabaja en radianes, as´ı que el ´angulo que leas en grados deber´as pasarlo a radianes sabiendo que π radianes son 180 grados. Prueba que has hecho bien el programa introduciendo los siguientes datos: a = 1, b = 2, θ = 30; el resultado es 0.5.)"
   ]
  },
  {
   "cell_type": "code",
   "execution_count": 4,
   "metadata": {},
   "outputs": [
    {
     "name": "stdout",
     "output_type": "stream",
     "text": [
      "ingresar la base: 1\n",
      "ingresar altura: 2\n",
      "ingresar el angulo(grad): 30\n",
      "el area es: 0.5\n"
     ]
    }
   ],
   "source": [
    "import math\n",
    "def area(base,altura,angulo):\n",
    "    \n",
    "    a=base\n",
    "    b=altura\n",
    "    c=angulo\n",
    "    area=round(((a*b)*math.sin(math.radians(c)))/2,2)\n",
    "    return area\n",
    "base=float(input(\"ingresar la base: \"))\n",
    "altura=float(input(\"ingresar altura: \"))\n",
    "angulo=float(input(\"ingresar el angulo(grad): \"))   \n",
    "print(f\"el area es: {area(base,altura,angulo)}\")"
   ]
  },
  {
   "cell_type": "markdown",
   "metadata": {},
   "source": [
    "divir una cadena ingresada\n"
   ]
  },
  {
   "cell_type": "code",
   "execution_count": 15,
   "metadata": {},
   "outputs": [
    {
     "name": "stdout",
     "output_type": "stream",
     "text": [
      "la cadena es: ['3:30', 'jesus']\n",
      "3:30\n",
      "['3', '30']\n",
      "33.0\n"
     ]
    }
   ],
   "source": [
    "x='3:30 jesus'\n",
    "print(f\"la cadena es: {x.split()}\")\n",
    "y=x.split()\n",
    "print(y[0])\n",
    "z=y[0].split(sep=':')\n",
    "print(z)\n",
    "num1=float(z[0])\n",
    "num2=float(z[1])\n",
    "print(num1+num2)\n"
   ]
  },
  {
   "cell_type": "code",
   "execution_count": null,
   "metadata": {},
   "outputs": [],
   "source": [
    "def add_time(horaI,horaF):\n",
    "    horario=''\n",
    "    v=horaI.split()\n",
    "    vHora=v[0]\n",
    "    vMinSeg=vHora.split(sep=':')\n",
    "    #uso de minutos y segundos en formato float\n",
    "    vMin=float(vMinSeg[0])\n",
    "    vSeg=float(vMinSeg[1])\n",
    "    # formato de fecha,am o pm\n",
    "    VFormat=v[1]\n",
    "    #formato de termino\n",
    "    y=horaF.split(sep=':')\n",
    "    #uso de minutos y segundos de hora final\n",
    "    vFmin=float(y[0])\n",
    "    vFseg=float(y[1])\n",
    "    \n",
    "    horaFinal=0\n",
    "    minFinal=0\n",
    "    if VFormat=='am' or VFormat=='pm':\n",
    "        if(vMin<=12 and vSeg<=60  and vFmin>=0 and vFseg<=60):\n",
    "            horario=VFormat\n",
    "            horaFinal=vMin+vFmin\n",
    "            minFinal=vSeg+vFseg\n",
    "            if(horaFinal<=12):\n",
    "                hora\n",
    "            \n",
    "        \n",
    "            \n",
    "          \n",
    "    \n",
    "       \n",
    "  \n",
    "    \n",
    "add_time(\"3:30 pm\",\"6:00\")"
   ]
  },
  {
   "cell_type": "code",
   "execution_count": null,
   "metadata": {},
   "outputs": [],
   "source": []
  }
 ],
 "metadata": {
  "kernelspec": {
   "display_name": "Python 3.6.6 64-bit",
   "language": "python",
   "name": "python3"
  },
  "language_info": {
   "codemirror_mode": {
    "name": "ipython",
    "version": 3
   },
   "file_extension": ".py",
   "mimetype": "text/x-python",
   "name": "python",
   "nbconvert_exporter": "python",
   "pygments_lexer": "ipython3",
   "version": "3.6.6"
  },
  "vscode": {
   "interpreter": {
    "hash": "f4e9cda46bb2d9d7fe6ecdff0f8336a934348bf06cb492f2f42f60739b3403b4"
   }
  }
 },
 "nbformat": 4,
 "nbformat_minor": 2
}
