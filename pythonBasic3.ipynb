{
 "cells": [
  {
   "cell_type": "markdown",
   "metadata": {},
   "source": [
    "\n",
    "<p> <strong> Ejemplo 1</strong></p>\n",
    "\n",
    "\n",
    "Probando la funcion insert() en un ciclo for,con listas:<br>\n",
    "lista[-1]=2<br>\n",
    "lista[-2]=1\n",
    "\n",
    "\n",
    "\n",
    "cuando  aplicamos el metodo insert(posición,valor) a la lista de objetos,la posicion que elegimos es donde se va insertar,valga la redundancia el valor,y el objeto que esta en esa posición se deplaza a la derecha.\n",
    "\n"
   ]
  },
  {
   "cell_type": "code",
   "execution_count": 1,
   "metadata": {},
   "outputs": [
    {
     "name": "stdout",
     "output_type": "stream",
     "text": [
      "la lista es: [0, 0, 0, 2]\n"
     ]
    }
   ],
   "source": [
    "lista=[0,2]\n",
    "\n",
    "for i in range(2):\n",
    "    \n",
    "    lista.insert(-1,lista[i])\n",
    "print(f\"la lista es: {lista}\")\n",
    "\n",
    "\n"
   ]
  },
  {
   "cell_type": "markdown",
   "metadata": {},
   "source": [
    "<p> <strong> Ejemplo 2</strong></p>\n",
    "argumento posicional: no es nombrado<br>\n",
    "argumento nombrado: lleva un identificador con su valor<br><br>\n",
    "Ejemplo:<br>\n",
    "suma(a=2,b=1)<br>\n",
    "sumar(1,2)"
   ]
  },
  {
   "cell_type": "code",
   "execution_count": 2,
   "metadata": {},
   "outputs": [
    {
     "name": "stdout",
     "output_type": "stream",
     "text": [
      "la suma es: 3\n",
      "la suma es:16\n"
     ]
    }
   ],
   "source": [
    "#funcion con argumento posicional\n",
    "def suma(a,b):\n",
    "    suma=a+b\n",
    "    return suma\n",
    "\n",
    "print(f\"la suma es: {suma(1,2)}\")\n",
    "#funcion con argumento nombrado\n",
    "def sumar(a,b):\n",
    "    sumar=a+b\n",
    "    return sumar\n",
    "print(f\"la suma es:{sumar(b=6,a=10)}\")\n"
   ]
  },
  {
   "cell_type": "markdown",
   "metadata": {},
   "source": [
    "<p> <strong> Ejemplo 3</strong></p>\n",
    "creamos una la variable de tipo list llamada lista,despues definimos una variable listaClon de tipo list vacia.<br>\n",
    "Queremos demostrar que tanto listaClon y lista apuntan a la misma posicion de memoria"
   ]
  },
  {
   "cell_type": "code",
   "execution_count": 3,
   "metadata": {},
   "outputs": [
    {
     "name": "stdout",
     "output_type": "stream",
     "text": [
      "[1, 6, 7, 'jesus']\n",
      "[1, 6, 7, 'jesus']\n",
      "91307592\n",
      "91307592\n",
      "apuntan a la misma direccion\n"
     ]
    }
   ],
   "source": [
    "lista=[1,6,7,\"jesus\"]\n",
    "listaClon=[]#lista vacia\n",
    "print(lista)\n",
    "listaClon=lista#ahora ambas apuntan a la misma direccion de memoria\n",
    "print(listaClon)\n",
    "#direccion de memoria\n",
    "print(id(lista))\n",
    "print(id(listaClon))\n",
    "#comprobamos de que listaClo n y lista apuntan a la misma direccion de memoria\n",
    "if lista is listaClon:\n",
    "    print(\"apuntan a la misma direccion\")\n",
    "else:\n",
    "    print(\"no apuntan a la misma direccion\")"
   ]
  },
  {
   "cell_type": "markdown",
   "metadata": {},
   "source": [
    "<p> <strong> Ejemplo 4</strong></p>\n",
    " iterando la variable x de tipo lista\n",
    "valores de x*x =  0 1 4 9 16 <br>\n",
    "iterardor x = 0 1 2 3 4"
   ]
  },
  {
   "cell_type": "code",
   "execution_count": 4,
   "metadata": {},
   "outputs": [
    {
     "name": "stdout",
     "output_type": "stream",
     "text": [
      "[0, 1, 4, 9, 16]\n",
      "[0, 1, 4, 9, 16]\n"
     ]
    }
   ],
   "source": [
    "x=[x*x for x in range(5) ]\n",
    "print(x)\n",
    "#itera la lista dentro de ella misma\n",
    "def iterar(x):\n",
    "    lista=x\n",
    "    return lista\n",
    "print(iterar(x))\n"
   ]
  },
  {
   "cell_type": "markdown",
   "metadata": {},
   "source": [
    "<p> <strong> Ejemplo 5</strong></p>\n",
    " lista vacia"
   ]
  },
  {
   "cell_type": "code",
   "execution_count": 5,
   "metadata": {},
   "outputs": [
    {
     "name": "stdout",
     "output_type": "stream",
     "text": [
      "[]\n"
     ]
    }
   ],
   "source": [
    "r=[i for i in range(-1,-2)]\n",
    "print(r)"
   ]
  },
  {
   "cell_type": "markdown",
   "metadata": {},
   "source": [
    "<p> <strong> Ejemplo 6</strong></p>"
   ]
  },
  {
   "cell_type": "code",
   "execution_count": 6,
   "metadata": {},
   "outputs": [
    {
     "name": "stdout",
     "output_type": "stream",
     "text": [
      "4\n"
     ]
    }
   ],
   "source": [
    "def fun(ip=2,out=3):\n",
    "    return ip*out\n",
    "print(fun(out=2))"
   ]
  },
  {
   "cell_type": "code",
   "execution_count": null,
   "metadata": {},
   "outputs": [],
   "source": []
  }
 ],
 "metadata": {
  "kernelspec": {
   "display_name": "Python 3.7.1 ('base')",
   "language": "python",
   "name": "python3"
  },
  "language_info": {
   "codemirror_mode": {
    "name": "ipython",
    "version": 3
   },
   "file_extension": ".py",
   "mimetype": "text/x-python",
   "name": "python",
   "nbconvert_exporter": "python",
   "pygments_lexer": "ipython3",
   "version": "3.7.1"
  },
  "vscode": {
   "interpreter": {
    "hash": "8457f10fc8f862e85ececbcd9665f46ce6df121d28d9b187704c2ce95a84e1da"
   }
  }
 },
 "nbformat": 4,
 "nbformat_minor": 2
}
